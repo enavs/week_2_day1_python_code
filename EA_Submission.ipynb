{
 "cells": [
  {
   "cell_type": "markdown",
   "metadata": {},
   "source": [
    "## Exercise #1 <br>\n",
    "<p>Create a calculator using functions that asks for two numbers and performs a calculation that the user inputs... Loop until the user chooses not to perform any more calculations.<br><b><i>Hint: Take yesterday's code from the extra exercise...</i></b></p>d\n",
    "d\n"
   ]
  },
  {
   "cell_type": "code",
   "execution_count": null,
   "metadata": {},
   "outputs": [],
   "source": [
    "active = True\n",
    "    \n",
    "while active:\n",
    "        \n",
    "    print(\"Please give 2 numbers as an input. This calculation will add them together. \")\n",
    "    first_input_message = input(\"Input 1st number and press enter: \")\n",
    "    second_input_message = input(\"Input 2nd number and press enter: \")\n",
    "\n",
    "    calculation = int(first_input_message)+int(second_input_message)\n",
    "    print(calculation)\n",
    "\n",
    "    if first_input_message == \"quit\" or second_input_message ==\"quit\":\n",
    "        active = False\n",
    "    else: \n",
    "        print(\"Please give 2 numbers as an input. This calculation will add them together. \")\n",
    "        first_input_message = input(\"Input 1st number and press enter: \")\n",
    "        second_input_message = input(\"Input 2nd number and press enter: \")\n",
    "        \n",
    "        calculation = int(first_input_message)+int(second_input_message)\n",
    "        print(calculation)"
   ]
  },
  {
   "cell_type": "markdown",
   "metadata": {},
   "source": [
    "## Exercise 2 <br>\n",
    "<p>Create a pyramid of X's for n number of levels.</p>"
   ]
  },
  {
   "cell_type": "code",
   "execution_count": 12,
   "metadata": {},
   "outputs": [
    {
     "name": "stdout",
     "output_type": "stream",
     "text": [
      "Enter in a value: 4\n",
      "   X \n",
      "  X X \n",
      " X X X \n",
      "X X X X \n"
     ]
    }
   ],
   "source": [
    "first_input_message = input(\"Enter in a value: \")\n",
    "first_input_message = int(first_input_message)\n",
    "\n",
    "k = first_input_message - 1\n",
    " \n",
    "for i in range(0, first_input_message):\n",
    "     \n",
    "    for j in range(0, k):\n",
    "        print(end=\" \")\n",
    "     \n",
    "    k = k - 1\n",
    "     \n",
    "    for j in range(0, i+1):         \n",
    "        print(\"X \", end=\"\")\n",
    "    print(\"\\r\")\n",
    " \n"
   ]
  },
  {
   "cell_type": "markdown",
   "metadata": {},
   "source": []
  }
 ],
 "metadata": {
  "kernelspec": {
   "display_name": "Python 3",
   "language": "python",
   "name": "python3"
  },
  "language_info": {
   "codemirror_mode": {
    "name": "ipython",
    "version": 3
   },
   "file_extension": ".py",
   "mimetype": "text/x-python",
   "name": "python",
   "nbconvert_exporter": "python",
   "pygments_lexer": "ipython3",
   "version": "3.8.5"
  }
 },
 "nbformat": 4,
 "nbformat_minor": 4
}
