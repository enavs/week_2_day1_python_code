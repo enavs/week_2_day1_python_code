{
 "cells": [
  {
   "cell_type": "markdown",
   "metadata": {},
   "source": [
    "## Exercise #1 <br>\n",
    "<p>Create a calculator using functions that asks for two numbers and performs a calculation that the user inputs... Loop until the user chooses not to perform any more calculations.<br><b><i>Hint: Take yesterday's code from the extra exercise...</i></b></p>d\n",
    "d\n"
   ]
  },
  {
   "cell_type": "code",
   "execution_count": 36,
   "metadata": {},
   "outputs": [
    {
     "name": "stdout",
     "output_type": "stream",
     "text": [
      "Enter in a value. This calculation will double it. Type 'quit' to escape. 2\n",
      "4\n",
      "Enter in a value. This calculation will double it. Type 'quit' to escape. 4\n",
      "8\n",
      "Enter in a value. This calculation will double it. Type 'quit' to escape. quit\n"
     ]
    }
   ],
   "source": [
    "active = True \n",
    "while active:\n",
    "    value = input(\"Enter in a value. This calculation will double it. Type 'quit' to escape. \")\n",
    "    \n",
    "    if value == 'quit': \n",
    "        active = False\n",
    "    else: \n",
    "        print(int(value)*2)"
   ]
  },
  {
   "cell_type": "code",
   "execution_count": 37,
   "metadata": {},
   "outputs": [
    {
     "name": "stdout",
     "output_type": "stream",
     "text": [
      "Please give 2 numbers as an input. This calculation will add them together. \n",
      "Input 1st number and press enter: 1\n",
      "Input 2nd number and press enter: 2\n",
      "3\n",
      "Please give 2 numbers as an input. This calculation will add them together. \n",
      "Input 1st number and press enter: 3\n",
      "Input 2nd number and press enter: 4\n",
      "7\n",
      "Please give 2 numbers as an input. This calculation will add them together. \n",
      "Input 1st number and press enter: 3\n",
      "Input 2nd number and press enter: 3\n",
      "6\n",
      "Please give 2 numbers as an input. This calculation will add them together. \n",
      "Input 1st number and press enter: 5\n",
      "Input 2nd number and press enter: 5\n",
      "10\n",
      "Please give 2 numbers as an input. This calculation will add them together. \n",
      "Input 1st number and press enter: quit\n",
      "Input 2nd number and press enter: quit\n"
     ]
    },
    {
     "ename": "ValueError",
     "evalue": "invalid literal for int() with base 10: 'quit'",
     "output_type": "error",
     "traceback": [
      "\u001b[0;31m---------------------------------------------------------------------------\u001b[0m",
      "\u001b[0;31mValueError\u001b[0m                                Traceback (most recent call last)",
      "\u001b[0;32m<ipython-input-37-2f922551ff79>\u001b[0m in \u001b[0;36m<module>\u001b[0;34m\u001b[0m\n\u001b[1;32m      7\u001b[0m     \u001b[0msecond_input_message\u001b[0m \u001b[0;34m=\u001b[0m \u001b[0minput\u001b[0m\u001b[0;34m(\u001b[0m\u001b[0;34m\"Input 2nd number and press enter: \"\u001b[0m\u001b[0;34m)\u001b[0m\u001b[0;34m\u001b[0m\u001b[0;34m\u001b[0m\u001b[0m\n\u001b[1;32m      8\u001b[0m \u001b[0;34m\u001b[0m\u001b[0m\n\u001b[0;32m----> 9\u001b[0;31m     \u001b[0mcalculation\u001b[0m \u001b[0;34m=\u001b[0m \u001b[0mint\u001b[0m\u001b[0;34m(\u001b[0m\u001b[0mfirst_input_message\u001b[0m\u001b[0;34m)\u001b[0m\u001b[0;34m+\u001b[0m\u001b[0mint\u001b[0m\u001b[0;34m(\u001b[0m\u001b[0msecond_input_message\u001b[0m\u001b[0;34m)\u001b[0m\u001b[0;34m\u001b[0m\u001b[0;34m\u001b[0m\u001b[0m\n\u001b[0m\u001b[1;32m     10\u001b[0m     \u001b[0mprint\u001b[0m\u001b[0;34m(\u001b[0m\u001b[0mcalculation\u001b[0m\u001b[0;34m)\u001b[0m\u001b[0;34m\u001b[0m\u001b[0;34m\u001b[0m\u001b[0m\n\u001b[1;32m     11\u001b[0m \u001b[0;34m\u001b[0m\u001b[0m\n",
      "\u001b[0;31mValueError\u001b[0m: invalid literal for int() with base 10: 'quit'"
     ]
    }
   ],
   "source": [
    "active = True\n",
    "    \n",
    "while active:\n",
    "        \n",
    "    print(\"Please give 2 numbers as an input. This calculation will add them together. \")\n",
    "    first_input_message = input(\"Input 1st number and press enter: \")\n",
    "    second_input_message = input(\"Input 2nd number and press enter: \")\n",
    "\n",
    "    calculation = int(first_input_message)+int(second_input_message)\n",
    "    print(calculation)\n",
    "\n",
    "    if first_input_message == \"quit\" or second_input_message ==\"quit\":\n",
    "        active = False\n",
    "    else: \n",
    "        print(\"Please give 2 numbers as an input. This calculation will add them together. \")\n",
    "        first_input_message = input(\"Input 1st number and press enter: \")\n",
    "        second_input_message = input(\"Input 2nd number and press enter: \")\n",
    "        \n",
    "        calculation = int(first_input_message)+int(second_input_message)\n",
    "        print(calculation)"
   ]
  },
  {
   "cell_type": "markdown",
   "metadata": {},
   "source": [
    "## Exercise 2 <br>\n",
    "<p>Create a pyramid of X's for n number of levels.</p>"
   ]
  },
  {
   "cell_type": "code",
   "execution_count": 35,
   "metadata": {},
   "outputs": [
    {
     "name": "stdout",
     "output_type": "stream",
     "text": [
      "Enter in a value5\n",
      "X\n",
      "XXX\n",
      "XXXXX\n",
      "XXXXXXX\n",
      "XXXXXXXXX\n"
     ]
    }
   ],
   "source": [
    "first_input_message = input(\"Enter in a value\")\n",
    "calc = int(first_input_message)\n",
    "num = -1\n",
    "\n",
    "for count in range(1,calc+1):\n",
    "    num+=2\n",
    "    print(\"X\"*num)\n",
    "    \n",
    "\n"
   ]
  },
  {
   "cell_type": "code",
   "execution_count": null,
   "metadata": {},
   "outputs": [],
   "source": []
  }
 ],
 "metadata": {
  "kernelspec": {
   "display_name": "Python 3",
   "language": "python",
   "name": "python3"
  },
  "language_info": {
   "codemirror_mode": {
    "name": "ipython",
    "version": 3
   },
   "file_extension": ".py",
   "mimetype": "text/x-python",
   "name": "python",
   "nbconvert_exporter": "python",
   "pygments_lexer": "ipython3",
   "version": "3.8.5"
  }
 },
 "nbformat": 4,
 "nbformat_minor": 4
}
