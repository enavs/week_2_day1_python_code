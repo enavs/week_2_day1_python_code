{
 "cells": [
  {
   "cell_type": "markdown",
   "metadata": {},
   "source": [
    "## Exercise #1 <br>\n",
    "<p>Create a calculator using functions that asks for two numbers and performs a calculation that the user inputs... Loop until the user chooses not to perform any more calculations.<br><b><i>Hint: Take yesterday's code from the extra exercise...</i></b></p>d\n",
    "d\n"
   ]
  },
  {
   "cell_type": "code",
   "execution_count": null,
   "metadata": {},
   "outputs": [],
   "source": [
    "while True:\n",
    "    calc_input = input(\"What type of calculation do you want to do? Please use '+', '-', 'x', '/'. Type 'q' to exit.\")\n",
    "\n",
    "    if calc_input == 'q':\n",
    "        break\n",
    "    else:\n",
    "    \n",
    "        num_input = input(\"Enter 2 numbers? Please use a comma between the 2 numbers:\").split(',')\n",
    "\n",
    "        first_num = int(num_input[0])\n",
    "        second_num = int(num_input[1])\n",
    "\n",
    "        if calc_input == '+':\n",
    "            answer = first_num + second_num\n",
    "            print(answer)\n",
    "        elif calc_input == '-':\n",
    "            answer = first_num - second_num\n",
    "            print(answer)            \n",
    "        elif calc_input == 'x':\n",
    "            answer = first_num * second_num\n",
    "            print(answer)                        \n",
    "        elif calc_input == '/':\n",
    "            print(answer)            \n",
    "            answer = first_num / second_num\n",
    "            print(answer)            "
   ]
  },
  {
   "cell_type": "markdown",
   "metadata": {},
   "source": [
    "## Exercise 2 <br>\n",
    "<p>Create a pyramid of X's for n number of levels.</p>"
   ]
  },
  {
   "cell_type": "code",
   "execution_count": 12,
   "metadata": {},
   "outputs": [
    {
     "name": "stdout",
     "output_type": "stream",
     "text": [
      "Enter in a value: 4\n",
      "   X \n",
      "  X X \n",
      " X X X \n",
      "X X X X \n"
     ]
    }
   ],
   "source": [
    "first_input_message = input(\"Enter in a value: \")\n",
    "first_input_message = int(first_input_message)\n",
    "\n",
    "k = first_input_message - 1\n",
    " \n",
    "for i in range(0, first_input_message):\n",
    "     \n",
    "    for j in range(0, k):\n",
    "        print(end=\" \")\n",
    "     \n",
    "    k = k - 1\n",
    "     \n",
    "    for j in range(0, i+1):         \n",
    "        print(\"X \", end=\"\")\n",
    "    print(\"\\r\")\n",
    " \n"
   ]
  },
  {
   "cell_type": "markdown",
   "metadata": {},
   "source": []
  }
 ],
 "metadata": {
  "kernelspec": {
   "display_name": "Python 3",
   "language": "python",
   "name": "python3"
  },
  "language_info": {
   "codemirror_mode": {
    "name": "ipython",
    "version": 3
   },
   "file_extension": ".py",
   "mimetype": "text/x-python",
   "name": "python",
   "nbconvert_exporter": "python",
   "pygments_lexer": "ipython3",
   "version": "3.8.5"
  }
 },
 "nbformat": 4,
 "nbformat_minor": 4
}
